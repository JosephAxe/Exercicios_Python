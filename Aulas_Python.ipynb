{
  "nbformat": 4,
  "nbformat_minor": 0,
  "metadata": {
    "colab": {
      "provenance": [],
      "toc_visible": true,
      "authorship_tag": "ABX9TyNfQpbN10g2yM1yzgaDK++0",
      "include_colab_link": true
    },
    "kernelspec": {
      "name": "python3",
      "display_name": "Python 3"
    },
    "language_info": {
      "name": "python"
    }
  },
  "cells": [
    {
      "cell_type": "markdown",
      "metadata": {
        "id": "view-in-github",
        "colab_type": "text"
      },
      "source": [
        "<a href=\"https://colab.research.google.com/github/JosephAxe/Exercicios_Python/blob/main/Aulas_Python.ipynb\" target=\"_parent\"><img src=\"https://colab.research.google.com/assets/colab-badge.svg\" alt=\"Open In Colab\"/></a>"
      ]
    },
    {
      "cell_type": "markdown",
      "source": [
        "# Aulas de Python para Magistrados"
      ],
      "metadata": {
        "id": "9ncNCjfiIbXN"
      }
    },
    {
      "cell_type": "markdown",
      "source": [
        "## 1- Instalação do Python"
      ],
      "metadata": {
        "id": "gr_QgZ4AKWqc"
      }
    },
    {
      "cell_type": "markdown",
      "source": [
        "### Instalando Python"
      ],
      "metadata": {
        "id": "8SuORC6TJE0T"
      }
    },
    {
      "cell_type": "markdown",
      "source": [
        "https://www.python.org/downloads/"
      ],
      "metadata": {
        "id": "ZRyMv1CBJFUX"
      }
    },
    {
      "cell_type": "markdown",
      "source": [
        "### Ambiente de Desenvolvimento"
      ],
      "metadata": {
        "id": "QQtMNxOiJFgU"
      }
    },
    {
      "cell_type": "markdown",
      "source": [
        "https://www.jetbrains.com/pycharm/"
      ],
      "metadata": {
        "id": "rE6moBZAJFpO"
      }
    },
    {
      "cell_type": "markdown",
      "source": [
        "## 2- Nosso primeiro programa"
      ],
      "metadata": {
        "id": "xFOdoyXZJFuR"
      }
    },
    {
      "cell_type": "markdown",
      "source": [
        "### Hello World"
      ],
      "metadata": {
        "id": "vw-qM963JFyH"
      }
    },
    {
      "cell_type": "code",
      "source": [
        "print('Hello World!')"
      ],
      "metadata": {
        "colab": {
          "base_uri": "https://localhost:8080/"
        },
        "id": "5faIaYoQLHKB",
        "outputId": "b32f7af5-b495-44f8-d6f3-47d986346f2b"
      },
      "execution_count": null,
      "outputs": [
        {
          "output_type": "stream",
          "name": "stdout",
          "text": [
            "Hello World!\n"
          ]
        }
      ]
    },
    {
      "cell_type": "markdown",
      "source": [
        "### Rodando o Script"
      ],
      "metadata": {
        "id": "bC48ctEwJF2Y"
      }
    },
    {
      "cell_type": "markdown",
      "source": [
        "Ir para o Pycharm"
      ],
      "metadata": {
        "id": "cw0E8Y1YS541"
      }
    },
    {
      "cell_type": "markdown",
      "source": [
        "## 3- Varíaveis e Tipos de dados"
      ],
      "metadata": {
        "id": "hu04BfKuJGEt"
      }
    },
    {
      "cell_type": "markdown",
      "source": [
        "### Dados do tipo númerico"
      ],
      "metadata": {
        "id": "QiaykPsZJGJu"
      }
    },
    {
      "cell_type": "markdown",
      "source": [
        "<table>\n",
        "  <tr>\n",
        "    <th colspan='3'>TIPOS DE DADOS NÚMERICOS</th>\n",
        "  </tr>\n",
        "\n",
        "  <tr>\n",
        "   <th>TIPOS DE DADOS</th>\n",
        "   <th>PALAVRA CHAVE</th>\n",
        "   <th>DESCRIÇÃO</th>\n",
        "  </tr>\n",
        "\n",
        "  <tr>\n",
        "   <td>Inteiro</td>\n",
        "   <td>int</td>\n",
        "   <td>Um número inteiro</td>\n",
        "  </tr>\n",
        "\n",
        "  <tr>\n",
        "    <td>Ponto flutuante</td>\n",
        "    <td>float</td>\n",
        "    <td>Um número real de ponto flutuante</td>\n",
        "  </tr>  \n",
        "\n",
        "  <tr>\n",
        "    <td>Complexo</td>\n",
        "    <td>complex </td>\n",
        "    <td>Um número complexo</td>\n",
        "  </tr>\n",
        "</table)\n"
      ],
      "metadata": {
        "id": "O021PPYYL4kl"
      }
    },
    {
      "cell_type": "markdown",
      "source": [
        "Inteiro"
      ],
      "metadata": {
        "id": "tz1M4wncR5f4"
      }
    },
    {
      "cell_type": "code",
      "source": [
        "10"
      ],
      "metadata": {
        "colab": {
          "base_uri": "https://localhost:8080/"
        },
        "id": "DqdmVhEvN7o7",
        "outputId": "e0fd3c52-13ed-409b-b9d6-8d432ea4556a"
      },
      "execution_count": null,
      "outputs": [
        {
          "output_type": "execute_result",
          "data": {
            "text/plain": [
              "int"
            ]
          },
          "metadata": {},
          "execution_count": 2
        }
      ]
    },
    {
      "cell_type": "markdown",
      "source": [
        "Ponto Flutuante"
      ],
      "metadata": {
        "id": "It7s-Ny1R9wf"
      }
    },
    {
      "cell_type": "code",
      "source": [
        "0.523"
      ],
      "metadata": {
        "colab": {
          "base_uri": "https://localhost:8080/"
        },
        "id": "1xlwLpLLRg9d",
        "outputId": "ba202847-df1d-4219-ba78-d80a62b6c88d"
      },
      "execution_count": null,
      "outputs": [
        {
          "output_type": "execute_result",
          "data": {
            "text/plain": [
              "float"
            ]
          },
          "metadata": {},
          "execution_count": 3
        }
      ]
    },
    {
      "cell_type": "markdown",
      "source": [
        "Complexo"
      ],
      "metadata": {
        "id": "BeLYyFoNR_BK"
      }
    },
    {
      "cell_type": "code",
      "source": [
        "1+3j"
      ],
      "metadata": {
        "colab": {
          "base_uri": "https://localhost:8080/"
        },
        "id": "-MZQPO7eRjfj",
        "outputId": "5f3ed354-754a-49df-ffbe-d57d44ec126a"
      },
      "execution_count": null,
      "outputs": [
        {
          "output_type": "execute_result",
          "data": {
            "text/plain": [
              "complex"
            ]
          },
          "metadata": {},
          "execution_count": 5
        }
      ]
    },
    {
      "cell_type": "markdown",
      "source": [
        "### String"
      ],
      "metadata": {
        "id": "_ouLcR36SjPA"
      }
    },
    {
      "cell_type": "markdown",
      "source": [
        "Sequência de caracteres"
      ],
      "metadata": {
        "id": "HETN61j2TRBA"
      }
    },
    {
      "cell_type": "code",
      "source": [
        "\n"
      ],
      "metadata": {
        "id": "fnvYKm0pRoER"
      },
      "execution_count": null,
      "outputs": []
    },
    {
      "cell_type": "markdown",
      "source": [
        "### Booleanos"
      ],
      "metadata": {
        "id": "GpV9-ZRDTziM"
      }
    },
    {
      "cell_type": "markdown",
      "source": [
        "Verdadeiro"
      ],
      "metadata": {
        "id": "Z5Mhgh3jT-_z"
      }
    },
    {
      "cell_type": "code",
      "source": [
        "True"
      ],
      "metadata": {
        "id": "Vs0ZHrLBTKqw"
      },
      "execution_count": null,
      "outputs": []
    },
    {
      "cell_type": "markdown",
      "source": [
        "Falso"
      ],
      "metadata": {
        "id": "kvw2LHEcUD8D"
      }
    },
    {
      "cell_type": "code",
      "source": [
        "False"
      ],
      "metadata": {
        "id": "hCoOue74UFj-"
      },
      "execution_count": null,
      "outputs": []
    },
    {
      "cell_type": "markdown",
      "source": [
        "### Sequências"
      ],
      "metadata": {
        "id": "hpeA8YvwUJZz"
      }
    },
    {
      "cell_type": "markdown",
      "source": [
        "<table>\n",
        "  <tr>\n",
        "    <th colspan='3'> TIPOS DE SEQUÊNCIAS</th>\n",
        "  </tr>\n",
        "\n",
        "  <tr>\n",
        "    <th>TIPO DE DADO</th>\n",
        "    <th>PALAVRA CHAVE</th>\n",
        "    <th>DESCRIÇÃO</th>\n",
        "  </tr>\n",
        "  \n",
        "  <tr>\n",
        "    <td>Lista</td>\n",
        "    <td>list</td>\n",
        "    <td>Coleção de valores</td>\n",
        "  </tr>\n",
        "  \n",
        "  <tr>\n",
        "    <td>Tupla</td>\n",
        "    <td>tuple</td>\n",
        "    <td>Lista Imutável</td>\n",
        "  </tr>\n",
        "\n",
        "  <tr>\n",
        "    <td>Dicionário</td>\n",
        "    <td>dict</td>\n",
        "    <td>Lista de pares chave-valor</td>\n",
        "  </tr>\n",
        "\n",
        "</table>\n"
      ],
      "metadata": {
        "id": "QwPpuriwU5Hq"
      }
    },
    {
      "cell_type": "markdown",
      "source": [
        "### Criando Variáveis"
      ],
      "metadata": {
        "id": "nAd_48CWXg9T"
      }
    },
    {
      "cell_type": "markdown",
      "source": [
        "myNumber"
      ],
      "metadata": {
        "id": "2s8vHwQ3Xo-y"
      }
    },
    {
      "cell_type": "code",
      "source": [],
      "metadata": {
        "id": "vmUftLNfUYo9"
      },
      "execution_count": null,
      "outputs": []
    },
    {
      "cell_type": "markdown",
      "source": [
        "myText"
      ],
      "metadata": {
        "id": "p0PCi--1Xpsq"
      }
    },
    {
      "cell_type": "code",
      "source": [],
      "metadata": {
        "id": "z4oBAwTfXxWZ"
      },
      "execution_count": null,
      "outputs": []
    },
    {
      "cell_type": "markdown",
      "source": [
        "### Usando Variáveis"
      ],
      "metadata": {
        "id": "-Zf_B1ciXzm4"
      }
    },
    {
      "cell_type": "code",
      "source": [],
      "metadata": {
        "id": "YN8LNCe6X4IC"
      },
      "execution_count": null,
      "outputs": []
    },
    {
      "cell_type": "markdown",
      "source": [
        "### Typecasting (conversão de tipos de dados)"
      ],
      "metadata": {
        "id": "wjxqxZc9YWge"
      }
    },
    {
      "cell_type": "code",
      "source": [],
      "metadata": {
        "id": "k3cx5CSWX69i"
      },
      "execution_count": null,
      "outputs": []
    },
    {
      "cell_type": "code",
      "source": [],
      "metadata": {
        "id": "X-9iPJpHYhtE"
      },
      "execution_count": null,
      "outputs": []
    },
    {
      "cell_type": "code",
      "source": [],
      "metadata": {
        "id": "w1AJStGVYil9"
      },
      "execution_count": null,
      "outputs": []
    },
    {
      "cell_type": "code",
      "source": [],
      "metadata": {
        "id": "41eyhPR4Y0Ca"
      },
      "execution_count": null,
      "outputs": []
    },
    {
      "cell_type": "code",
      "source": [],
      "metadata": {
        "id": "RGSoH4jAY5ey"
      },
      "execution_count": null,
      "outputs": []
    },
    {
      "cell_type": "markdown",
      "source": [
        "## Operadores"
      ],
      "metadata": {
        "id": "z6TKv37xZCjk"
      }
    },
    {
      "cell_type": "markdown",
      "source": [
        "### Operadores Aritiméticos"
      ],
      "metadata": {
        "id": "CzDTQj6kZmor"
      }
    },
    {
      "cell_type": "markdown",
      "source": [
        "<table>\n",
        "  <tr>\n",
        "    <th colspan='3'>OPERADORES ARITIMÉTICOS</th>\n",
        "  </tr>\n",
        "  \n",
        "  <tr>\n",
        "    <th>OPERADOR</th>\n",
        "    <th>NOME</th>\n",
        "    <th>DESCRIÇÃO<th>\n",
        "  </tr>\n",
        "\n",
        "  <tr>\n",
        "    <td>+</td>\n",
        "    <td>Adição</td>\n",
        "    <td>Soma dois valores</td>\n",
        "  </tr>\n",
        "  \n",
        "  <tr>\n",
        "    <td>-</td>\n",
        "    <td>Subtração</td>\n",
        "    <td>Subtrai um valor de outro valor</td>\n",
        "  </tr>\n",
        "  \n",
        "  <tr>\n",
        "    <td>*</td>\n",
        "    <td>Multiplicação</td>\n",
        "    <td>Multiplica dois valores</td>\n",
        "  </tr>\n",
        "  \n",
        "  <tr>\n",
        "    <td>/</td>\n",
        "    <td>Divisisão</td>\n",
        "    <td>Divide um valor pelo o outro</td>\n",
        "  </tr>\n",
        "  \n",
        "  <tr>\n",
        "    <td>%</td>\n",
        "    <td>Resto</td> \n",
        "    <td>Retorna o resto de uma divisão</td>\n",
        "  </tr>\n",
        "\n",
        "  <tr>\n",
        "    <td>**</td> \n",
        "    <td>Exponenciação</td> \n",
        "    <td>Eleva um valor ao expoente de outro</td> \n",
        "  </tr>\n",
        "\n",
        "  <tr>\n",
        "    <td>//</td>\n",
        "    <td>Divisão sem Resto</td>\n",
        "    <td>Retorna o resultado da divisão sem as casas decimais</td>\n",
        "  </tr>\n",
        "</table>\n",
        "\n",
        "\n"
      ],
      "metadata": {
        "id": "68_IcaWUZxoc"
      }
    },
    {
      "cell_type": "code",
      "source": [],
      "metadata": {
        "id": "yDvkgnlQizWo"
      },
      "execution_count": null,
      "outputs": []
    },
    {
      "cell_type": "code",
      "source": [],
      "metadata": {
        "id": "M_F-LCAvizsv"
      },
      "execution_count": null,
      "outputs": []
    },
    {
      "cell_type": "code",
      "source": [],
      "metadata": {
        "id": "35QDNa0ai0bN"
      },
      "execution_count": null,
      "outputs": []
    },
    {
      "cell_type": "code",
      "source": [],
      "metadata": {
        "id": "4Rm1QwUYi0f8"
      },
      "execution_count": null,
      "outputs": []
    },
    {
      "cell_type": "code",
      "source": [],
      "metadata": {
        "id": "JVhNlCmai2AD"
      },
      "execution_count": null,
      "outputs": []
    },
    {
      "cell_type": "code",
      "source": [],
      "metadata": {
        "id": "RhkU1gEfi2Kd"
      },
      "execution_count": null,
      "outputs": []
    },
    {
      "cell_type": "code",
      "source": [],
      "metadata": {
        "id": "wr_k213-i2Vn"
      },
      "execution_count": null,
      "outputs": []
    },
    {
      "cell_type": "markdown",
      "source": [
        "### Operadores de Atribuições"
      ],
      "metadata": {
        "id": "gaQsleO0aE5u"
      }
    },
    {
      "cell_type": "markdown",
      "source": [
        "<table>\n",
        "  <tr>\n",
        "    <th colspan='2'>OPERADORES DE ATRIBUIÇÕES</th>\n",
        "  </tr>\n",
        "  \n",
        "  <tr>\n",
        "    <th>OPERADOR</th>\n",
        "    <th>DESCRIÇÃO</th>\n",
        "  </tr>\n",
        "  \n",
        "  <tr>\n",
        "    <td>=</td>\n",
        "    <td>Atribui um valor a variável</td>\n",
        "  </tr>\n",
        "\n",
        "  <tr>\n",
        "    <td>+=</td>\n",
        "    <td>Adiciona um valor a variável</td>\n",
        "  </tr>\n",
        "\n",
        "  <tr>\n",
        "    <td>-=</td>\n",
        "    <td>Subtrai o valor de uma variável</td>\n",
        "  </tr>\n",
        "\n",
        "  <tr>\n",
        "    <td>*=</td>\n",
        "    <td>Multiplica o valor de uma variável</td>\n",
        "  </tr>\n",
        "\n",
        "  <tr>\n",
        "    <td>/=</td>\n",
        "    <td>Divide a variável por um valor</td>\n",
        "  </tr>\n",
        "\n",
        "  <tr>\n",
        "  <td>%=</td>\n",
        "  <td>Atribui o resto de uma divisão<td>\n",
        "  </tr>\n",
        "\n",
        "  <tr>\n",
        "  <td>**=</td>\n",
        "  <td>Atribui o resultado de uma exponenciação</td>\n",
        "  </tr>\n",
        "\n",
        "  <tr>\n",
        "  <td>//=</td>\n",
        "  <td>Atribui o resultado de uma divisão sem as casas decimais</td>\n",
        "  </tr>\n",
        "\n",
        "</table>\n",
        "\n"
      ],
      "metadata": {
        "id": "YtNL1EXXaP54"
      }
    },
    {
      "cell_type": "code",
      "source": [],
      "metadata": {
        "id": "4_9ofqBCi47R"
      },
      "execution_count": null,
      "outputs": []
    },
    {
      "cell_type": "code",
      "source": [],
      "metadata": {
        "id": "nypRtYc6i5Fr"
      },
      "execution_count": null,
      "outputs": []
    },
    {
      "cell_type": "code",
      "source": [],
      "metadata": {
        "id": "VXwlQVG7i5T-"
      },
      "execution_count": null,
      "outputs": []
    },
    {
      "cell_type": "code",
      "source": [],
      "metadata": {
        "id": "ma_GV3XQi5em"
      },
      "execution_count": null,
      "outputs": []
    },
    {
      "cell_type": "code",
      "source": [],
      "metadata": {
        "id": "ZE_aQ_Jii5po"
      },
      "execution_count": null,
      "outputs": []
    },
    {
      "cell_type": "code",
      "source": [],
      "metadata": {
        "id": "2SWbWuxwi50t"
      },
      "execution_count": null,
      "outputs": []
    },
    {
      "cell_type": "code",
      "source": [],
      "metadata": {
        "id": "qZnJ4X3fi5_h"
      },
      "execution_count": null,
      "outputs": []
    },
    {
      "cell_type": "code",
      "source": [],
      "metadata": {
        "id": "XLGZvOuki6Lg"
      },
      "execution_count": null,
      "outputs": []
    },
    {
      "cell_type": "markdown",
      "source": [
        "### Operadores de Comparação"
      ],
      "metadata": {
        "id": "2Kaacweci7GW"
      }
    },
    {
      "cell_type": "markdown",
      "source": [
        "<table>\n",
        "  <tr><th colspan='3'>OPERADORES DE COMPARAÇÃO</th></tr>\n",
        "\n",
        "  <tr>\n",
        "    <th>OPERADOR</th>\n",
        "    <th>NOME</th>\n",
        "    <th>DESCRIÇÃO</th>\n",
        "  </tr>\n",
        "\n",
        "  <tr>\n",
        "    <td>==</td>\n",
        "    <td>Igual</td>\n",
        "    <td>OS dois valores são os mesmos</td>\n",
        "  </tr>\n",
        "\n",
        "  <tr>\n",
        "    <td>!=</td>\n",
        "    <td>Não igual</td>\n",
        "    <td>Os dois valores são diferentes</td>\n",
        "  </tr>\n",
        "\n",
        "  <tr>\n",
        "    <td>></td>\n",
        "    <td>Maio que</td>\n",
        "    <td>O primeiro valor é maior que o segundo valor</td>\n",
        "  </tr>\n",
        "\n",
        "  <tr>\n",
        "    <td><</td>\n",
        "    <td>Menor que</td>\n",
        "    <td>O primeiro valor é menor que o segundo</td>\n",
        "  </tr>\n",
        "\n",
        "  <tr>\n",
        "    <td>>=</td>\n",
        "    <td>Maior que ou que</td>\n",
        "    <td>O primeiro valor é maior ou igual ao segundo</td>\n",
        "  </tr>\n",
        "\n",
        "  <tr>\n",
        "    <td><=</td>\n",
        "    <td>Menor que ou igual</td>\n",
        "    <td>O primeiro valor é menor ou igual ao segundo</td>\n",
        "  </tr>\n",
        "\n",
        "</table>\n"
      ],
      "metadata": {
        "id": "01c92EKTjNhj"
      }
    },
    {
      "cell_type": "code",
      "source": [],
      "metadata": {
        "id": "xI8PdCNgZg0w"
      },
      "execution_count": null,
      "outputs": []
    }
  ]
}